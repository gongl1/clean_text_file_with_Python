{
 "cells": [
  {
   "cell_type": "markdown",
   "id": "2a688424-5b64-45c0-b099-7997ec25f81e",
   "metadata": {},
   "source": [
    "## Let's bring the walden file into the notebook first"
   ]
  },
  {
   "cell_type": "code",
   "execution_count": 1,
   "id": "31272515-c12d-47ae-8370-91bb62eea552",
   "metadata": {
    "tags": []
   },
   "outputs": [],
   "source": [
    "data_file_location = \"gutenberg.org_files_205_205-0.txt\""
   ]
  },
  {
   "cell_type": "code",
   "execution_count": 2,
   "id": "85bb6f73-485f-4356-872d-230fe25a2fdf",
   "metadata": {
    "tags": []
   },
   "outputs": [
    {
     "data": {
      "text/plain": [
       "<_io.TextIOWrapper name='gutenberg.org_files_205_205-0.txt' mode='r' encoding='utf8'>"
      ]
     },
     "execution_count": 2,
     "metadata": {},
     "output_type": "execute_result"
    }
   ],
   "source": [
    "file = open(data_file_location, 'r', encoding='utf8')\n",
    "file"
   ]
  },
  {
   "cell_type": "markdown",
   "id": "f95738c6-f4d0-4ae7-b38e-4cc08ce26d3d",
   "metadata": {},
   "source": [
    "## 1. Write Python code to count the number of lines in the file"
   ]
  },
  {
   "cell_type": "code",
   "execution_count": 3,
   "id": "949fb5d0-3914-4c87-b6c5-a21fb34a741e",
   "metadata": {
    "tags": []
   },
   "outputs": [
    {
     "name": "stdout",
     "output_type": "stream",
     "text": [
      "10598\n"
     ]
    }
   ],
   "source": [
    "# Method 1\n",
    "\n",
    "counter = 0\n",
    "\n",
    "for line in file:\n",
    "    counter = counter + 1\n",
    "\n",
    "file.close()\n",
    "print(counter)"
   ]
  },
  {
   "cell_type": "code",
   "execution_count": 4,
   "id": "12852250-81f5-48e7-8e3d-27cc0b26427f",
   "metadata": {
    "tags": []
   },
   "outputs": [
    {
     "name": "stdout",
     "output_type": "stream",
     "text": [
      "10598\n"
     ]
    }
   ],
   "source": [
    "# Method 2\n",
    "\n",
    "counter1 = 0\n",
    "\n",
    "with open(data_file_location, 'r', encoding='utf8') as file: #r is read only \n",
    "    for line in file:\n",
    "        # print(line)\n",
    "        counter1 = counter1 + 1\n",
    "# it will close automatically !\n",
    "print(counter1)"
   ]
  },
  {
   "cell_type": "markdown",
   "id": "49c8cfe1-0572-4425-8863-d3c4390f9343",
   "metadata": {},
   "source": [
    "## 2. Print the first 15 lines (hint: if using loops, look up the break keyword or the enumerate function)"
   ]
  },
  {
   "cell_type": "code",
   "execution_count": 5,
   "id": "c3d6c2d7-65c0-4ea4-b538-cfdfeaa6a3a3",
   "metadata": {
    "tags": []
   },
   "outputs": [
    {
     "name": "stdout",
     "output_type": "stream",
     "text": [
      "['\\ufeffThe Project Gutenberg eBook of Walden, by Henry David Thoreau\\n', '\\n', 'This eBook is for the use of anyone anywhere in the United States and\\n', 'most other parts of the world at no cost and with almost no restrictions\\n', 'whatsoever. You may copy it, give it away or re-use it under the terms\\n', 'of the Project Gutenberg License included with this eBook or online at\\n', 'www.gutenberg.org. If you are not located in the United States, you\\n', 'will have to check the laws of the country where you are located before\\n', 'using this eBook.\\n', '\\n', 'Title: Walden\\n', '\\n', 'Author: Henry David Thoreau\\n', '\\n', 'Release Date: January, 1995 [eBook #205]\\n']\n"
     ]
    }
   ],
   "source": [
    "# Method 1\n",
    "with open(data_file_location, 'r', encoding='utf8') as file:\n",
    "    head = [next(file) for _ in range(15)]\n",
    "print(head)"
   ]
  },
  {
   "cell_type": "code",
   "execution_count": 6,
   "id": "d5145f85-9b45-47ef-ac3d-65c6cc74e31d",
   "metadata": {
    "tags": []
   },
   "outputs": [
    {
     "name": "stdout",
     "output_type": "stream",
     "text": [
      "﻿The Project Gutenberg eBook of Walden, by Henry David Thoreau\n",
      "\n",
      "\n",
      "\n",
      "This eBook is for the use of anyone anywhere in the United States and\n",
      "\n",
      "most other parts of the world at no cost and with almost no restrictions\n",
      "\n",
      "whatsoever. You may copy it, give it away or re-use it under the terms\n",
      "\n",
      "of the Project Gutenberg License included with this eBook or online at\n",
      "\n",
      "www.gutenberg.org. If you are not located in the United States, you\n",
      "\n",
      "will have to check the laws of the country where you are located before\n",
      "\n",
      "using this eBook.\n",
      "\n",
      "\n",
      "\n",
      "Title: Walden\n",
      "\n",
      "\n",
      "\n",
      "Author: Henry David Thoreau\n",
      "\n",
      "\n",
      "\n",
      "Release Date: January, 1995 [eBook #205]\n",
      "\n"
     ]
    }
   ],
   "source": [
    "# Method 2\n",
    "f = open(data_file_location, 'r', encoding='utf8')\n",
    "lista = f.readlines() # Return all lines in the file, as a list where each line is an item in the list object:\n",
    "lista = lista[0:15]\n",
    "for i in lista:\n",
    "    print(i)\n",
    "f.close()"
   ]
  },
  {
   "cell_type": "markdown",
   "id": "cddbf348-2a80-43d5-ac79-312e158e5030",
   "metadata": {},
   "source": [
    "## 3. Print the first 30 lines, after you have:\n",
    "\n",
    "A. Removed commas, colons and semicolons and\n",
    "\n",
    "B. Converted all characters to lower case and\n",
    "\n",
    "C. Removed any extra spaces around lines using the strip() function (empty lines are ok)"
   ]
  },
  {
   "cell_type": "code",
   "execution_count": 7,
   "id": "f18f2398-3bdf-4048-a6cd-75671b9a028a",
   "metadata": {
    "tags": []
   },
   "outputs": [],
   "source": [
    "# I am going to save the finished text file from step 3 as \"questionthree.txt\" for future use. \n",
    "\n",
    "output_file_location = \"questionthree.txt\"\n",
    "  \n",
    "f = open(data_file_location, 'r', encoding='utf8')\n",
    "lista = f.readlines()\n",
    "\n",
    "# transform each line in original text file to new text file called \"questionthree.txt\"\n",
    "with open(output_file_location, 'w', encoding='utf8') as output_file:\n",
    "    for line in lista:\n",
    "        line = line.replace(\",\", \" \").replace(\":\", \" \").replace(\";\", \" \").lower().strip()\n",
    "        # print(line)\n",
    "        output_file.write(line + \"\\n\")"
   ]
  },
  {
   "cell_type": "code",
   "execution_count": 8,
   "id": "7f34507b-8010-412f-9838-4782ac4317ca",
   "metadata": {
    "tags": []
   },
   "outputs": [
    {
     "name": "stdout",
     "output_type": "stream",
     "text": [
      "﻿the project gutenberg ebook of walden  by henry david thoreau\n",
      "\n",
      "\n",
      "\n",
      "this ebook is for the use of anyone anywhere in the united states and\n",
      "\n",
      "most other parts of the world at no cost and with almost no restrictions\n",
      "\n",
      "whatsoever. you may copy it  give it away or re-use it under the terms\n",
      "\n",
      "of the project gutenberg license included with this ebook or online at\n",
      "\n",
      "www.gutenberg.org. if you are not located in the united states  you\n",
      "\n",
      "will have to check the laws of the country where you are located before\n",
      "\n",
      "using this ebook.\n",
      "\n",
      "\n",
      "\n",
      "title  walden\n",
      "\n",
      "\n",
      "\n",
      "author  henry david thoreau\n",
      "\n",
      "\n",
      "\n",
      "release date  january  1995 [ebook #205]\n",
      "\n",
      "[most recently updated  january 28  2021]\n",
      "\n",
      "\n",
      "\n",
      "language  english\n",
      "\n",
      "\n",
      "\n",
      "character set encoding  utf-8\n",
      "\n",
      "\n",
      "\n",
      "produced by  judith boss  and david widger\n",
      "\n",
      "\n",
      "\n",
      "*** start of the project gutenberg ebook walden ***\n",
      "\n",
      "\n",
      "\n",
      "\n",
      "\n",
      "\n",
      "\n",
      "\n",
      "\n",
      "walden\n",
      "\n",
      "\n",
      "\n"
     ]
    }
   ],
   "source": [
    "# Then I open the new file \"questionthree.txt\" and read the first 30 lines.\n",
    "\n",
    "thirty = open(output_file_location, 'r', encoding='utf8')\n",
    "thirtylines = thirty.readlines()\n",
    "thirtylines = thirtylines[0:30]\n",
    "for line in thirtylines:\n",
    "    print(line)\n",
    "f.close()"
   ]
  },
  {
   "cell_type": "markdown",
   "id": "aef9cc55-05d1-4eb3-9be9-a8dfb838f052",
   "metadata": {},
   "source": [
    "## 4. (a) Count the number of unique words in the file (after transforming the text using logic from #3). (b) How often are the following words used: \"dawn\", \"distasteful\", \"employment\"?"
   ]
  },
  {
   "cell_type": "code",
   "execution_count": 9,
   "id": "4a73d613-f44d-44da-8ac6-7bc1c17ac965",
   "metadata": {
    "tags": []
   },
   "outputs": [
    {
     "name": "stdout",
     "output_type": "stream",
     "text": [
      "14399\n"
     ]
    }
   ],
   "source": [
    "words = []\n",
    "count = 0\n",
    "\n",
    "with open (output_file_location, \"r\", encoding='utf8') as f:\n",
    "    # Get a list of words in the file and covert it into a set.\n",
    "    # set() method is used to convert any of the iterable to sequence of iterable elements with distinct elements.\n",
    "    words = set(f.read().split()) \n",
    "    count = len(words) \n",
    "\n",
    "print(count)\n",
    "#print(words)"
   ]
  },
  {
   "cell_type": "code",
   "execution_count": 10,
   "id": "410b3407-2350-4716-928b-fe23292e6798",
   "metadata": {
    "tags": []
   },
   "outputs": [],
   "source": [
    "# make dictionary called uniqueworddic. Put the unique word as key and number of the word as value. \n",
    "uniqueworddic = {}\n",
    "for w in open(output_file_location, \"r\", encoding='utf8').read().split():\n",
    "    if w in uniqueworddic:\n",
    "        uniqueworddic[w] += 1\n",
    "    else:\n",
    "        uniqueworddic[w] = 1\n",
    "for word, times in uniqueworddic.items():\n",
    "    #print(word, times)\n",
    "    word, times"
   ]
  },
  {
   "cell_type": "code",
   "execution_count": 11,
   "id": "2ff955d5-a6a8-4981-99d9-5fb85d92ef40",
   "metadata": {
    "tags": []
   },
   "outputs": [
    {
     "name": "stdout",
     "output_type": "stream",
     "text": [
      "dawn : 7\n",
      "dawn. : 3\n",
      "dawns : 2\n",
      "dawning : 2\n"
     ]
    }
   ],
   "source": [
    "# I want to pick out any word contains dawn in order not to miss any key things.\n",
    "try :\n",
    "    for cat in list(uniqueworddic.keys()):\n",
    "        if \"dawn\" in cat:\n",
    "            print(f\"{cat} : {uniqueworddic[cat]}\")\n",
    "except :\n",
    "    print(\"0\")"
   ]
  },
  {
   "cell_type": "code",
   "execution_count": 12,
   "id": "cfd1e812-aa2e-4d8f-9151-61739e7da82e",
   "metadata": {
    "tags": []
   },
   "outputs": [],
   "source": [
    "# I want to pick out any word contains dawn in order not to miss any key things.\n",
    "try :\n",
    "    for cat in list(uniqueworddic.keys()):\n",
    "        if \"distasteful\" in cat:\n",
    "            print(f\"{cat} : {uniqueworddic[cat]}\")\n",
    "except :\n",
    "    print(\"0\")"
   ]
  },
  {
   "cell_type": "code",
   "execution_count": 13,
   "id": "d603f196-1c94-44e1-a872-2b4febf97eb8",
   "metadata": {
    "tags": []
   },
   "outputs": [
    {
     "name": "stdout",
     "output_type": "stream",
     "text": [
      "employment : 7\n",
      "employments : 1\n"
     ]
    }
   ],
   "source": [
    "# I want to pick out any word contains dawn in order not to miss any key things.\n",
    "try :\n",
    "    for cat in list(uniqueworddic.keys()):\n",
    "        if \"employment\" in cat:\n",
    "            print(f\"{cat} : {uniqueworddic[cat]}\")\n",
    "except :\n",
    "    print(\"0\")"
   ]
  },
  {
   "cell_type": "markdown",
   "id": "306d2ce5-46c2-45bb-8bd7-09ba6f609f97",
   "metadata": {},
   "source": [
    "## 5. Create a list of alphabetically sorted unique words and display the first 5 words (\"words\" may actually just be gibberish characters or numbers, don't worry about removing them)"
   ]
  },
  {
   "cell_type": "code",
   "execution_count": 14,
   "id": "79eba293-0a25-4b7f-9c6d-9da7af109494",
   "metadata": {
    "tags": []
   },
   "outputs": [
    {
     "data": {
      "text/plain": [
       "['\"', '\"defects', '\"information', '\"plain', '\"project']"
      ]
     },
     "execution_count": 14,
     "metadata": {},
     "output_type": "execute_result"
    }
   ],
   "source": [
    "sorted(list(uniqueworddic.keys()))[:5]"
   ]
  },
  {
   "cell_type": "markdown",
   "id": "179aa704-7194-4853-8b92-293e5b372beb",
   "metadata": {},
   "source": [
    "## 6. ... display the last 5 words"
   ]
  },
  {
   "cell_type": "code",
   "execution_count": 15,
   "id": "8e232f72-6305-4217-9d47-470370e7cad2",
   "metadata": {},
   "outputs": [
    {
     "data": {
      "text/plain": [
       "['”—that', '”—though', '”—“it', '”—“that', '\\ufeffthe']"
      ]
     },
     "execution_count": 15,
     "metadata": {},
     "output_type": "execute_result"
    }
   ],
   "source": [
    "sorted(list(uniqueworddic.keys()))[-5:]"
   ]
  },
  {
   "cell_type": "markdown",
   "id": "65bd79d2-806e-4f65-8484-1c25a64be0ba",
   "metadata": {
    "tags": []
   },
   "source": [
    "## 7. ... display 3rd, 4th and 5th words"
   ]
  },
  {
   "cell_type": "code",
   "execution_count": 16,
   "id": "651010e2-03bf-4667-bd10-89c3b06d3f38",
   "metadata": {
    "tags": []
   },
   "outputs": [
    {
     "data": {
      "text/plain": [
       "['\"information', '\"plain', '\"project']"
      ]
     },
     "execution_count": 16,
     "metadata": {},
     "output_type": "execute_result"
    }
   ],
   "source": [
    "sorted(list(uniqueworddic.keys()))[2:5]"
   ]
  },
  {
   "cell_type": "markdown",
   "id": "8e9039d1-707d-41a4-abcc-076fdd44da47",
   "metadata": {},
   "source": [
    "## 8. ... display the last 4 words, not including the last one"
   ]
  },
  {
   "cell_type": "code",
   "execution_count": 17,
   "id": "21190714-0dc3-4d61-87b2-04570a499967",
   "metadata": {},
   "outputs": [
    {
     "data": {
      "text/plain": [
       "['”—that', '”—though', '”—“it', '”—“that']"
      ]
     },
     "execution_count": 17,
     "metadata": {},
     "output_type": "execute_result"
    }
   ],
   "source": [
    "sorted(list(uniqueworddic.keys()))[-5:-1]"
   ]
  },
  {
   "cell_type": "markdown",
   "id": "653d6155-27de-400a-a6fa-7764701b697d",
   "metadata": {},
   "source": [
    "## 9. ... display all words which contain the letter 'L' (ignore case)"
   ]
  },
  {
   "cell_type": "code",
   "execution_count": 18,
   "id": "39388965-ac16-481e-a5cf-122e4529a6f8",
   "metadata": {},
   "outputs": [],
   "source": [
    "# how to use filter with lambda?\n",
    "# # a list contains both even and odd numbers. \n",
    "# seq = [0, 1, 2, 3, 5, 8, 13]\n",
    " \n",
    "# # result contains odd numbers of the list\n",
    "# result = filter(lambda x: x % 2 != 0, seq)\n",
    "# print(list(result))\n",
    " \n",
    "# # result contains even numbers of the list\n",
    "# result = filter(lambda x: x % 2 == 0, seq)\n",
    "# print(list(result))"
   ]
  },
  {
   "cell_type": "code",
   "execution_count": 19,
   "id": "880bef68-951e-4d25-ac95-1f456bd38563",
   "metadata": {
    "tags": []
   },
   "outputs": [
    {
     "name": "stdout",
     "output_type": "stream",
     "text": [
      "['walden', 'world', 'almost', 'license', 'included', 'online', 'located', 'will', 'laws', 'title', 'release', 'recently', 'language', 'english', 'civil', 'lived', 'solitude', 'bean-field', 'village', 'animals', 'conclusion', 'following', 'bulk', 'alone', 'mile', 'built', 'myself', 'living', 'labor', 'only.', 'civilized', 'life', 'should', 'particular', 'would', 'call', 'all', 'natural', 'feel', 'lonesome', 'like.', 'learn', 'charitable', 'large', 'families', 'children', 'commonly', 'always', 'talk', 'else', 'well.', 'unfortunately', 'last', 'simple', 'merely', 'lives', 'land', 'sincerely', 'particularly', 'apply', 'islanders', 'live', 'england', 'especially', 'well', 'travelled', 'deal', 'fields', 'remarkable', 'looking', 'flames', 'shoulders', '“until', 'impossible', 'while', 'liquids', 'dwelling', 'like', 'caterpillars', 'leg', 'pillars', 'hardly', 'incredible', 'daily', 'twelve', 'labors', 'hercules', 'trifling', 'only', 'could', 'slew', 'labor.', 'iolas', 'cattle', 'tools', 'easily', 'suckled', 'wolf', 'clearer', 'field', 'called', 'soil?', 'immortal', 'soul', 'load', 'stables', 'cleansed', 'tillage', 'wood-lot!', 'portionless', 'struggle', 'cultivate', 'flesh.', 'plowed', 'soil', 'employed', 'old', 'laying', 'steal.', 'fool’s', 'deucalion', 'laborum', 'raleigh', 'blind', 'blundering', 'oracle', 'fell.', 'comparatively', 'superfluously', 'plucked', 'toil', 'clumsy', 'tremble', 'actually', 'laboring', 'leisure', 'manliest', 'relations', 'knowledge?', 'clothe', 'gratuitously', 'cordials', 'qualities', 'bloom', 'delicate', 'handling.', 'ourselves', 'tenderly.', 'unable', 'already', 'stolen', 'limits', 'slough', 'latins', 'alienum_', 'still', 'insolvent', 'lying', 'flattering', 'yourselves', 'nutshell', 'civility', 'dilating', 'let', 'lay', 'plastering', 'safely', 'little.', 'frivolous', 'slavery', 'subtle', 'enslave', 'slave-driver', 'yourself.', 'look', 'godlike', 'vaguely', 'slave', 'himself', 'public', 'self-emancipation', 'wilberforce', 'also', 'ladies', 'toilet', 'kill', 'lead', 'console', 'yourself', 'concealed', 'play', 'deliberately', 'honestly', 'left.', 'alert', 'healthy', 'clear.', 'late', 'silence', 'falsehood', 'cloud', 'sprinkle', 'fertilizing', 'fields.', 'people', 'fuel', 'little', 'whirled', 'globe', 'qualified', 'lost.', 'learned', 'absolute', 'value', 'living.', 'practically', 'partial', 'miserable', 'failures', 'believe', 'left', 'belies', 'less', 'planet', 'syllable', 'valuable', 'told', 'probably', 'tell', 'avail', 'reflect', 'vegetable', 'solely', 'religiously', 'supplying', 'material', 'walking', 'talks', 'vegetable-made', 'lumbering', 'plough', 'along', 'obstacle.', 'really', 'circles', 'helpless', 'luxuries', 'entirely', 'whole', 'valleys', 'evelyn', 'solomon', 'fall', 'belongs', 'nails', 'longer.', 'undoubtedly', 'afflicted', 'child', 'shall', 'illumines', 'light', 'wonderful', 'triangles!', 'contemplating', 'several', 'miracle', 'place', 'worlds', 'mythology!—i', 'startling', 'likely', 'well?', 'irresistible', 'vessels.', 'elsewhere.', 'incurable', 'vigilant', 'long', 'unwillingly', 'thoroughly', 'compelled', 'possibility', 'contemplate', 'knowledge.”', 'length', 'establish', 'trouble', 'troubled', 'least', 'careful.', 'civilization', 'influence', 'essential', 'skeletons', 'life_', 'philosophy', 'palatable', 'unless', 'shelter', 'shelter.', 'climate', 'accurately', 'clothing', 'till', 'problems', 'clothes', 'possibly', 'accidental', 'luxury', 'legitimately', 'internal', 'external', 'properly', 'naturalist', 'del', 'clothed', 'close', 'hollander', 'clothes.', 'intellectualness', 'liebig', 'lungs.', 'cold', 'less.', 'animal', 'result', 'slow', 'vital', 'analogy.', 'list', '_animal', 'nearly', '—shelter', 'accordingly', 'night-clothes', 'mole', 'leaves', 'complain', 'physical', 'social', 'directly', 'ails.', 'climates', 'possible', 'elysian', 'life.', 'sufficiently', 'generally', 'wholly', 'half', 'implements', 'wheelbarrow', 'lamplight', 'unhealthy', 'themselves', 'comfortably', 'last.', 'luxuriously', 'simply', 'unnaturally', 'implied', 'la', 'indispensable', 'elevation', 'philosophers', 'class', 'impartial', 'voluntary', 'agriculture', 'literature', 'philosophers.', 'admirable', 'live.', 'philosopher', 'school', 'love', 'simplicity', 'solve', 'theoretically', 'practically.', 'scholars', 'courtier-like', 'kingly', 'manly.', 'nobler', 'lives?', 'sheltered', 'surely', 'larger', 'splendid', 'alternative', 'superfluities', 'humbler', 'radicle', 'firmly', 'plants', 'valued', 'esculents', 'biennials', 'cultivated', 'flowering', 'rules', 'valiant', 'hell', 'build', 'magnificently', 'lavishly', 'precisely', 'lovers', 'mainly', 'idly', 'complaining', 'lot', 'energetically', 'inconsolably', 'seemingly', 'wealthy', 'terribly', 'accumulated', 'golden', 'silver', 'actual', 'certainly', 'line.', 'voluntarily', 'inseparable', 'gladly', 'lost', 'turtle-dove', 'trail.', 'travellers', 'calls', 'themselves.', 'herself!', 'twilight', 'materially', 'well-nigh', 'capital', 'political', 'earliest', 'intelligence.', 'cliff', 'telegraph', 'arrival', 'hill-tops', 'dissolve', 'journal', 'circulation', 'self-appointed', 'faithfully', 'across-lot', 'passable', 'heel', 'utility.', 'looked', 'wild', 'faithful', 'leaping', 'huckleberry', 'nettle', 'black', 'yellow', 'violet', 'allowance.', 'settled.', 'strolling', 'sell', 'well-known', 'lawyer', 'reply.', 'exclaimed', 'wealth', 'followed', 'selling', 'successful', 'fellow-citizens', 'exclusively', 'usual', 'slender', 'cheaply', 'dearly', 'obstacles', 'accomplishing', 'talent', 'foolish.', 'celestial', 'small', 'salem', 'articles', 'purely', 'details', 'pilot', 'letter', 'unweariedly', 'vessels', 'supply', 'results', 'exploring', 'lights', 'logarithmic', 'tables', 'calculator', 'vessel', 'splits', 'friendly', 'untold', '—universal', 'faculties', 'loss', 'universal', 'knowledge.', 'railroad', 'policy', 'divulge', 'filled', 'piles', 'flood-tide', 'westerly', 'practical', 'led', 'novelty', 'recollect', 'secondly', 'accomplished', 'tailor', 'clean', 'assimilated', 'until', 'delay', 'medical', 'appliances', 'solemnity', 'lower', 'fashionable', 'believed', 'hobble', 'pantaloon.', 'gentleman’s', 'legs', 'similar', 'pantaloons', 'help', 'truly', 'respectable', 'shiftless', 'salute', 'cornfield', 'relative', 'belonged', 'class?', 'travels', 'felt', 'travelling', 'clothes.”', 'yield', 'endless', 'lain', 'longer', 'valet', 'older', 'legislative', 'halls', 'resolved', 'elements', 'less?', 'sailed', 'bottles.', 'moulting', 'fowls', 'lives.', 'loon', 'solitary', 'caterpillar', 'cuticle', 'mortal', 'coil.', 'sailing', 'false', 'colors', 'inevitably', 'fanciful', 'fatal', 'constantly', 'cellular', 'liber', 'girdling', 'equivalent', 'desirable', 'clad', 'compactly', 'preparedly', 'walk', 'dollars', 'dollar', 'nominal', 'tailoress', 'tells', 'gravely', 'impersonal', 'difficult', 'oracular', 'separately', 'related', 'finally', 'inclined', 'equal', 'full', 'traveller’s', 'powerful', 'kills', 'nevertheless', 'sailors', 'laugh', 'laughs', 'follows', 'beholding', 'elizabeth', 'cannibal', 'islands.', 'pitiful', 'laughter', 'people.', 'harlequin', 'colic', 'soldier', 'ball', 'purple.', 'childish', 'kaleidoscopes', 'whimsical.', 'color', 'sold', 'readily', 'lie', 'shelf', 'frequently', 'lapse', 'latter', 'fashionable.', 'called.', 'unalterable.', 'clothing.', 'principal', 'unquestionably', 'fail', 'immediately', 'colder', 'samuel', 'laing', 'laplander', 'sleep', 'woollen', 'clothing.”', 'asleep', 'people.”', 'originally', 'family', 'extremely', 'occasional', 'chiefly', 'parasol', 'formerly', 'symbol', 'limbed', 'wall', 'pleasant', 'daylight', 'fable', 'hollow', 'loves', 'cold.', 'plays', 'shelving', 'palm', 'linen', 'shingles', 'tiles.', 'dwell', 'long.', 'lest', 'labyrinth', 'clue', 'almshouse', 'mausoleum', 'slight', 'absolutely', 'cloth', 'glad', 'callous', 'laborers', 'locked', 'holes', 'lid', 'despicable', 'alternative.', 'pleased', 'landlord', 'house-lord', 'luxurious', 'levity', 'comfortable', 'mostly', 'materials', 'colony', 'neatly', 'slipped', 'flakes', 'bulrush', 'indifferently', 'lodged', 'lined', 'well-wrought', 'utensils.', 'regulate', 'hole', 'lodge', 'simpler', 'prevails', 'whole.', 'annual', 'helps', 'palace', 'entitles', 'fireplace', 'blinds', 'lock', 'cellar', 'real', 'dwellings', 'costly', 'laborer’s', 'doubtful', 'evils.', 'holding', 'superfluous', 'individual', 'funeral', 'himself.', 'children’s', 'lord', 'israel.”', '“behold', 'souls', 'classes', 'toiling', 'itself', 'applying', 'equally', 'pertinently', 'fulfil', 'moral', 'infinitely', 'honestly.', 'vaults', 'unelastic', 'plank', 'middlesex', '_éclat_', 'annually', 'agricultural', 'problem', 'livelihood', 'formula', 'complicated', 'itself.', 'speculates', 'cattle.', 'skill', 'luxuries.', 'earthly', 'heavenly', 'valid', 'movable', 'unwieldy', 'selves.', 'able', 'accomplish', 'palaces', 'noblemen', 'placed', 'below', 'counterbalanced', '“silent', 'garlic', 'decently', 'railroads', 'walks', 'visible', 'imaginable', 'pile', 'permanently', 'development', 'limbs', 'accomplished.', 'world.', 'ireland', 'enlightened', 'islander', 'people’s', 'rulers', 'rulers.', 'squalidness', 'civilization.', 'staple', 'needlessly', 'gradually', 'leaving', 'palmleaf', 'example', 'glow-shoes', 'umbrellas', 'heels', 'car-load', 'allow—would', 'singular', 'allowance?—that', 'complex', 'morally', 'intellectually', 'cluttered', 'defiled', 'leave', 'blushes', 'world?', 'limestone', 'diligently', 'follow.', 'traveller', 'publicans', 'sardanapalus', 'completely', 'emasculated.', 'oriental', 'velvet', '_malaria_', 'imply', 'contemplated', 'dwelt', 'plains', 'climbing', 'lo!', 'tools.', 'independently', 'settled', '_agri_-culture.', 'low', 'pedestal', 'nail', 'floor', 'mantel-piece', 'solid', 'leap', 'muscles', 'cleared', 'level', 'bolsters', 'bawbles', 'ornamental.', 'beautiful', 'useful.', 'walls', 'laid', 'settlers', 'hillside', 'aloft', '“till', 'lord’s', 'blessing', 'netherland', 'line', 'ceiling', 'clear', 'cellars', 'family.', 'colonies', 'firstly', 'building', 'fatherland.', 'principle', 'culture', '_spiritual_', 'architectural', 'neglected', 'shellfish', 'overlaid', 'alas!', 'lime', 'suitable', 'logs', 'well-tempered', 'clay', 'flat', 'understandingly', 'blessing.', 'tall', 'fellow-men', 'released', 'hold', 'apple', 'dissolved', 'colored', 'flurries', 'gleaming', 'rails', 'lark', 'swell', 'apparently', 'fairly', 'ethereal', 'previously', 'inflexible', 'april', 'melted', 'early', 'cackling', 'communicable', 'scholar-like', 'blows', 'carefully', 'usually', 'rambler', 'pleasantly', 'middle', 'collins', 'collins’', 'uncommonly', 'walked', 'brittle', 'door-sill', 'perennial', 'clammy', 'removal.', 'lighted', 'lamp', 'lately.', 'silk', 'gilt-framed', 'looking-glass', 'mill', 'nailed', 'sapling', 'told.', 'concluded', 'meanwhile', 'claims', 'fuel.', 'bundle', 'held', 'coffee-mill', '—all', 'cartloads', 'bleach', 'woodland', 'treacherously', 'seeley', 'intervals', 'tolerable', 'drivable', 'staples', 'freshly', 'removal', 'hill', 'sloping', 'blackberry', 'lowest', 'place.', 'pleasure', 'latitudes', 'equable', 'neighborliness', 'loftier', 'july', 'lapped', 'perfectly', 'agreeable', 'loaf', 'holder', 'tablecloth', 'iliad.', 'temporal', 'faculty', 'universally', 'developed', 'unmusical', 'belong', 'exclusion', 'myself.', 'revelation', 'dilettantism.', 'sentimental', 'plum', 'almond', 'almonds', 'wholesome', 'indweller', 'reasonable', 'shell', 'mother-o’-pearl', 'style', 'idle', 'pale', 'trial', 'lean', 'timidly', 'builder', 'truthfulness', 'nobleness', 'additional', 'humble', 'log', 'shells', 'peculiarity', 'dwelling.', 'literally', 'gale', 'plumes', 'substantials.', 'olives', 'cellar.', 'bibles', '_belles-lettres_', 'slanted', 'handful', 'color.', 'complexion', 'blush', 'shingled', 'slice', 'obliged', 'plane.', 'plastered', 'closet', 'exactly', 'laths', 'glass', 'mantle-tree', 'latch', 'chalk', 'claimed', 'pleases', 'lifetime', 'annually.', 'freely', 'relief', 'humility', 'devil’s', 'college', 'elsewhere', 'bill', 'blindly', 'principles', 'speculation', 'employs', 'systematically', 'ignoble', 'unprofitable', 'fruitful.', '_play_', 'earnestly', '_live_', 'living?', 'telescope', 'satellites', 'satellite', 'smelted', 'lectures', 'metallurgy', '_political_', 'colleges.', 'irretrievably.', 'colleges', 'illusion', 'devil', 'sensibly.', 'tunnel', 'atlantic', 'leak', 'flapping', 'adelaide', 'evangelist', 'locusts', 'flying', 'childers', 'mill.', 'travel', 'miles', 'lucky', 'altogether.', 'law', 'available', 'planet.', '“all', 'blown', 'melancholy', 'elasticity', 'questionable', 'liberty', 'englishman', 'exclaim', 'million', '_comparatively_', 'unusual', 'planted', 'eleven', 'squirrels', 'ploughing', 'supplied', 'mould', 'distinguishable', 'luxuriance', 'unmerchantable', 'plant', 'bushels', 'balancing', 'partly', 'celebrated', 'select', 'impartially', 'failure', 'economical', 'follow', 'failed', 'greatly', 'larger.', 'play.', 'blunder', 'animals.', 'bull', 'stable-boy', 'glory', 'inevitable', 'slaves', 'substantial', 'largest', 'buildings', 'themselves?', 'temples', 'gold', 'marble', 'leave.', 'polish', 'memorable', 'vulgar', 'sensible', 'religion', 'alive.', 'manlier', 'nile', 'builders', 'temple', 'balcom', 'pencil', 'ruler', 'fellow', 'kettles', 'rattle', 'trifling.', 'day-labor', 'namely', 'molasses', 'meal', 'flour', 'trouble.', 'lard', 'apples', 'watermelon', 'salt', 'unblushingly', 'publish', 'guilt', 'guilty', 'slaughter', 'flavor', 'longest', 'incidental', 'oil', 'household', 'utensils', 'bills', 'necessarily', 'balance', 'health', 'completeness', 'also.', 'loved', 'cavillers', 'occasionally', 'element', 'incredibly', 'latitude', 'purslane', '(_portulaca', 'oleracea_)', 'boiled', 'salted.', 'latin', 'trivial', 'peaceful', 'salt?', 'yielding', 'health.', 'well-stocked', 'larder.', 'shingle', 'flavor.', 'agreeable.', 'loaves', 'cereal', 'noble', 'cloths.', 'consulting', 'unleavened', 'wildness', 'mildness', 'leavening', 'leaven', 'fills', 'vestal', 'bottle-full', 'mayflower', 'swelling', 'cerealian', 'billows', 'regularly', 'scalded', 'analytic', 'elderly', 'trivialness', 'sal', 'alkali', 'lavato.', 'paulatim', 'pulchre.', 'thoroughly.', 'baking-kettle.', 'leaven.', 'englander', 'fluctuating', 'rarely', 'bushel', 'hand-mill', 'maples', 'liquor', 'lips', 'walnut-tree', 'altogether', 'sold—namely', 'unbelievers', 'nails.', 'squirrel', 'mills', 'alarmed.', 'table', 'kettle', 'skillet', 'wash-bowl', 'plates', 'lamp.', 'shiftlessness.', 'plenty', 'beggarly', 'spaulding’s', 'looks', 'newly', 'buckled', 'belt', 'lines', 'tail', 'elasticity.', 'bold', 'sledge', 'compact-looking', 'butterfly', 'entangled', 'narrowly', 'gentleman', 'bundle.', 'least.', 'all—looking', 'willing', 'milk', 'single', 'lady', 'declined', 'evil.', 'ineffectual', 'evil', 'accumulate', 'eagerly', 'collected', 'profitably', 'semblance', 'reality', 'celebrate', 'mucclasse', 'celebrates', 'collect', 'cleanse', 'filth', 'general', 'proclaimed', 'malefactors', 'flame.”', 'themselves.”', 'belief', 'scarcely', 'spiritual', 'biblical', 'revelation.', 'school-keeping', 'failure.', 'devil.', 'seriously', 'huckleberries', 'foolishly', 'unhesitatingly', 'hills', 'carelessly', 'flocks', 'villagers', 'loads.', 'handles', 'relinquish', 'day-laborer', 'employer', 'self', 'wisely', 'artificial.', 'careful', 'sail', 'mathematical', 'sailor', 'polestar', 'calculable', 'proportionally', 'underlie', 'exceedingly', 'superficial', 'inaudible', 'lately', 'plow', 'all.', 'selfish', 'indulged', 'philanthropic', 'employment', 'indulge', 'obligation', 'fellows', 'else.', 'full.', 'consciously', 'calling', 'annihilation', 'decline', 'will.', 'peculiar', 'kindled', 'splendor', 'goodfellow', 'lunatics', 'steadily', 'genial', 'blocks', 'hurled', 'headlong', 'thunderbolt', 'mingled', 'blood.', 'pull', 'newfoundland', 'philanthropy', 'fellow-man', 'helped?', 'balked', 'consolation', 'fell', 'flannel', 'slop-shop', 'relieve.', 'slave-breeder', 'employing', 'selfishness', 'fellow-townsman', 'uncles', 'lecturer', 'learning', 'intelligence', 'literary', 'cromwell', 'milton', 'elevated', 'england’s', 'philanthropists.', 'benevolence', 'leaves.', 'flower', 'superfluity', 'multitude', 'philanthropist', 'wailing?', 'light?', 'brutal', 'ail', 'bowels', 'awful', 'nibble', 'populous', 'villages', 'loses', 'holiest', 'ail.', 'apology.', 'lecturing', 'penalty', 'lecture', 'philanthropies', 'melodious', 'consoled', 'irrepressible', 'dispel', 'clouds', 'gulistan', 'lofty', 'replied', 'blooming', 'flourishing', 'religious', 'dijlah', 'flow', 'caliphs', 'liberal', 'complemental', 'claim', 'lazy', 'flourish', 'gorgon-like', 'dull', 'unnatural', 'falsely', 'exalted', 'servile', 'regal', 'all-seeing', 'achilles', 'loath’d', 'cell', '—cultivated', 'entitled', 'real-estate', 'landscape', 'accordingly.', 'woodlot', 'blasted', 'fallow', 'alone.', 'refusal', 'hollowell', 'yielded', 'wheelbarrow.', 'landscapes', 'invisible', 'milked', 'milk.', 'complete', 'dilapidated', 'interval', 'lichen-covered', 'recollection', 'atlas', 'unmolested', 'scale', 'jail.', '“cultivator', 'translation', 'greedily', 'please', 'lustily', 'chanticleer', 'cool', 'planed', 'auroral', 'unplastered', 'trail', 'terrestrial', 'olympus', 'rolled', 'settling', 'slightly', 'crystallization', 'builder.', 'outlines.', 'suddenly', 'wilder', 'thrilling', 'villager', 'scarlet', 'field-sparrow', 'whippoorwill', 'lincoln', 'battle', 'lakes', 'nightly', 'ripples', 'reflecting', 'revealed', 'stealthily', 'nocturnal', 'conventicle.', 'later', 'lake', 'gentle', 'shallow', 'reflections', 'pleasing', 'flowing', 'valley', 'blue.', 'glimpse', 'bluer', 'true-blue', 'village.', 'float', 'smallest', 'insular.', 'cool.', 'flood', 'insulated', 'floated', 'land_.', 'plateau', 'ample', 'delectable', 'places', 'constellation', 'settle', 'pleiades', 'aldebaran', 'altair', 'dwindled', 'twinkling', 'moonless', 'hourly', 'cheerful', 'herself.', 'thyself', 'unimaginable', 'iliad', 'cosmical', 'everlasting', 'fertility', 'somnolence', 'slumbers', 'mechanical', 'newly-acquired', 'undulations', 'bells', 'filling', 'light.', 'earlier', 'intelligences', 'elastic', 'perpetual', 'clocks', 'sleep.', 'slumbering?', 'calculators.', 'millions', 'intellectual', 'unquestionable', 'ability', 'elevate', 'glorious', 'quality', 'contemplation', 'critical', 'paltry', 'oracles', 'distinctly', 'lived.', 'sturdily', 'spartan-like', 'sublime', 'hastily_', '“glorify', 'meanly', 'clout', 'evitable', 'detail.', 'lump', 'simplicity!', 'nail.', 'allowed', 'simplify', 'simplify.', 'meals', 'establishment', 'heedless', 'calculation', 'households', 'sleepers', '_lives_', 'railroads?', 'railroad?', 'smoothly', 'rail', 'sleeper', 'life?', 'still.', 'pulls', 'bell-rope', 'bell', 'handsomely', 'holds', 'sentinels.', 'doubtless', 'rolls', 'critically', 'letters', 'life—i', 'killed', 'applications?', 'plate', 'belonging', 'twelve-month', 'carlos', 'seville', 'bull-fight', 'lucid', 'revolution', 'speculations', 'old!', 'faults', 'ill-spent', 'draggle-tail', 'deadly', 'slow?”', 'delusions', 'fabulous.', 'realities', 'allow', 'deluded', 'tale', 'pleasures', 'reality.', 'exhilarating', 'sublime.', 'closing', 'slumbering', 'illusory', 'clearly', 'worthily', 'expelled', 'holy', '“mill-dam”', 'beheld', 'jail', 'dwelling-house', 'culminates', 'enabled', 'instilling', 'obediently', 'falls', 'rails.', 'gently', 'overwhelmed', 'terrible', 'whirlpool', 'shallows.', 'hill.', 'unrelaxed', 'ulysses.', 'whistles', 'whistle', 'slush', 'delusion', 'alluvion', 'london', '_reality_', 'lamp-post', 'nilometer', 'realometer', 'glimmer', 'happily', 'conclude', 'alive', 'slides', 'pebbly', 'alphabet.', 'intellect', 'cleaver', 'hills.', 'deliberation', 'essentially', 'alike.', 'accumulating', 'dealing', 'oldest', 'veil', 'trembling', 'elapsed', 'revealed.', 'improvable', 'favorable', 'circulating', 'library', 'circulate', 'impossible.', 'æschylus', 'luxuriousness', 'implies', 'emulate', 'laboriously', 'valor', 'fertile', 'translations', 'youthful', 'classics', 'noblest', 'delphi', 'old.', 'athletes', 'reservedly', 'dialect', 'unconsciously', 'languages', 'literature.', 'dialects', 'literatures', 'eloquence', 'fleeting', 'clouds.', 'exhalations', 'colloquies', 'yields', 'alexander', 'relics.', 'translated', 'marbles', 'autumnal', 'lands', 'naturally', 'rightfully', 'shelves', 'plead', 'enlighten', 'illiterate', 'scornful', 'inaccessible', 'keenly', 'feels', 'knowledge', 'virgil', 'solidly', 'equalled', 'elaborate', 'lifelong', 'enable', 'relics', 'classic', 'successively', 'astrologically', 'astronomically.', 'lulls', 'wakeful', 'bible', 'volumes', 'fullest', 'vegetables', 'zebulon', 'stumble', 'steeple', 'belfry', 'novelist', 'noveldom', 'constellations', '‘tittle-tol-tan', 'monthly', 'four-year-old', 'gilt-covered', 'cinderella', 'moral.', 'dulness', 'circulations', 'deliquium', 'sloughing', 'faculties.', 'sedulously', 'spell.', 'college-bred', 'liberally', 'accessible', 'feeblest', 'english.', 'original', 'familiar', 'difficulties', 'titles?', 'considerably', 'class-books', '“little', 'plato', 'dialogues', 'low-lived', 'illiterateness', 'feeble', 'intellects.', 'flights', 'columns', 'salutary', 'explain', 'miracles', 'reveal', 'unutterable', 'puzzle', 'liberality.', 'believes', 'silent', 'exclusiveness', 'established', 'humbly', 'liberalizing', 'culture.', 'flatter', 'flattered', 'schools', 'half-starved', 'lyceum', 'latterly', 'ourselves.', 'article', 'bodily', 'aliment', 'ailment', 'mental', 'aliment.', 'elder', 'leisure—if', 'abelard', 'sadly', 'neglected.', 'nobleman', 'intelligent', 'politics', 'provincial?', '“neutral', 'family”', '“olive-branches”', 'england.', '—genius—learning—wit—books—paintings—statuary—music—', 'philosophical', 'selectmen', 'pilgrim', 'bleak', 'collectively', 'nobleman’s.', 'provincial', 'gulf', 'published', 'discipline', 'alert.', 'selected', 'stillness', 'flitted', 'noiseless', 'falling', 'realized', 'orientals', 'lo', 'silently', 'smiled', 'trill', 'chuckle', 'warble', 'clock', 'idleness', 'fellow-townsmen', 'flowers', 'calm', 'indolence.', 'novel.', 'regulating', 'closely', 'sprinkled', 'three-legged', 'unwilling', 'blow', 'life-everlasting', 'goldenrod', 'blueberry', 'pumila_', 'umbels', 'cylindrically', 'compliment', 'palatable.', 'glabra_', 'luxuriantly', 'tropical', 'leaf', 'graceful', 'heedlessly', 'velvety', 'limbs.', 'circling', 'clearing', 'restless', 'dimples', 'glassy', 'steals', 'flitting', 'folks', 'couldn’t', 'whistle!', 'fleet', 'plain', 'dwell.', 'link.', 'employee', 'locomotive', 'circle', 'laden', 'planetary', 'beholder', 'velocity', 'unfolding', 'cloud-compeller', 'livery', 'nostrils', 'mythology', 'floats', 'herself', 'cheerfully', 'feeling', 'regular.', 'conceals', 'stabler', 'early!', 'lies', 'drill-barrow', 'floating', 'flies', 'glen', 'stall', 'slumber.', 'stable', 'blowing', 'liver', 'saloons', 'brilliant', 'dismal', 'owl', 'arrivals', 'regularity', 'regulates', 'punctuality', 'electrifying', '“railroad', '(let', 'bolts', 'tell.', 'bolts.', 'clasp', 'snow-plough', 'three-o’-clock', 'sleeps', 'chilling', 'blood', 'muffled', 'chilled', 'behold', 'ploughmen', 'mould-board', 'field-mice', 'bowlders', 'unexpectedly', 'withal', 'rattles', 'smell', 'champlain', 'coral', 'climes', 'globe.', 'palm-leaf', 'flaxen', 'manilla', 'sails', 'legible', 'graphically', 'lumber', 'split', 'slacked.', 'bales', 'final', 'milwaukie', 'muslins', 'tales', 'closed', 'smells', 'commercial', 'spoil', 'blush?', 'kindlings', 'lading', 'mineral', 'snowflake', 'excellent', 'tails', 'angle', 'hopeless', 'constitutional', 'ligatures', 'effectual', 'glue', 'cuttingsville', 'bulk-head', 'telling', 'quality.', 'beholds', 'ammiral.”', 'cattle-train', 'gales.', 'bleating', 'calves', 'hustling', 'pastoral', 'bell-wether', 'lambs.', 'clinging', 'useless', 'slope', 'fidelity', 'slink', 'kennels', 'league', 'hollows', 'swallows', 'a-blowing', 'blackberries', 'spoiled', 'rumbling', 'melody', 'wilderness.', 'needles', 'lyre', 'needle', 'modulated', 'vale', 'vale.', 'lowing', 'minstrels', 'dale', 'unpleasantly', 'prolonged', 'satirical', 'articulation', 'whippoorwills', 'pole', 'cluck', 'fly', 'louder.', 'musical', 'owls', 'u-lu-lu.', 'blunt', 'solemn', 'mutual', 'consolations', 'delights', 'supernal', 'infernal', 'wailing', 'doleful', 'trilled', 'tearful', 'fallen', 'night-walked', 'restlessness', 'tremulous', 'faintly', 'owl.', 'relic', 'mortality', 'howls', 'gurgling', 'melodiousness', 'gl', 'gelatinous', 'mildewy', 'ghouls', 'howlings.', 'owls.', 'maniacal', 'admirably', 'illustrates', 'undeveloped', 'lichens', 'lisps', 'skulk', 'disconsolate', 'bullfrogs', 'wassailers', 'hilarious', 'festal', 'solemnly', 'waterloggedness', 'aldermanic', 'heart-leaf', 'drooling', 'ejaculation', 'gulped', 'ejaculates', 'leakiest', 'flabbiest', 'bowl', 'vainly', 'bellowing', 'cockerel', 'naturalized', 'clangor', 'fill', 'lords’', 'clarions', 'cockerels', 'shrill', 'feebler', 'unspeakably', 'chanticleer.', 'lungs', 'flag.', 'slumbers.', 'wheel', 'old-fashioned', '—only', 'blue-jay', 'screech-owl', 'cat-owl', 'flock', 'laughing', 'oriole', 'mild', 'plantation', 'clearing.', 'cackle', 'sills.', 'scuttle', 'world!', 'delicious', 'delight', 'sleeves', 'cloudy', 'special', 'unusually', 'congenial', 'rippling', 'fluttering', 'alder', 'poplar', 'rippled', 'ruffled.', 'lull', 'complete.', 'wildest', '—links', 'walnut', 'intentionally', 'accidentally.', 'peeled', 'willow', 'table.', 'lingering', 'elbows.', 'reclaimed', 'plainly', 'kernel', 'candles', 'æolian', 'rightly', 'compel', 'uplands', 'unpleasant.', 'prevailed', 'unaccountable', 'friendliness', 'swelled', 'untimely', 'pleasantest', 'ceaseless', 'pelting', 'unfold', 'pail', 'deluge', 'lightning', 'regular', 'spiral', 'walking-stick.', 'resistless', 'bolt', 'harmless', 'especially.”', 'reply', 'lonely?', 'milky', 'solitary?', 'school-house', 'cellar....', 'liked', 'passably', 'places.', 'indescribably', 'outlying', 'continually', 'subtile', 'holiday', 'oblations', 'intelligences.', 'aloof', 'involved', 'theatrical', 'doubleness', 'companionable', 'solitude.', 'lonely', 'fellows.', 'diligent', 'blues', 'realize', 'politeness', 'sociable', 'lose', 'girls', 'loneliness', 'relieved', 'real.', 'normal', 'calls.', 'loud', 'blue', 'devils', 'angels', 'legion.', 'mullein', 'dandelion', 'sorrel', 'horse-fly', 'bumble-bee.', 'settler', 'whalley', 'dwells', 'stroll', 'simples', 'listening', 'fables', 'unequalled', 'lusty', 'outlive', 'indescribable', 'humanely', 'myself?', 'pill', 'outlived', 'vials', 'black-schooner', 'bottles', 'undiluted', 'bottle', 'coolest', 'stopples', 'æsculapius', 'lettuce', 'bloodsucker', 'full-blooded', 'innumerable', 'extravagantly', 'herald', 'ridiculous', 'slinks', 'difficulty', 'bullet', 'lateral', 'interval.', 'individuals', 'considerable', 'neutral', 'undulations.', 'loquacious', 'talkers', 'jowl', 'thoughtfully', 'priceless', 'frugal', 'while.', 'hospitality', 'miraculously', 'effectually', 'polite', 'looke', 'winslow', 'plymouth', 'planks', 'lodging', 'o’clock', 'light-headed', 'poorly', 'apologies', 'belts', 'unexplored', 'uncultivated', 'paphlagonian', 'translate', 'achilles’', 'patroclus', 'girl?”—', 'peleus', 'sluggish', 'gracefully', 'sleepy', 'lit', 'wool-colored', 'couple', 'dangled', 'deliberating', 'nightfall', '—loving', 'skilful', 'flourishes', 'sled', 'slide', 'splinter', 'overflowed', 'alloy.', 'felling', 'inexpressible', 'salutation', 'half-suppressed', 'felled', 'peeling', 'roll', 'laughed', 'talked.', 'tumbled', 'tickled', 'pistol', 'salutes', 'walked.', 'alight', '“liked', '_fellers_', 'developed.', 'life.”', 'catholic', 'pupil', 'child.', 'reliance', 'helped', 'humble—if', 'responsibility', 'miracles.', 'remarkably', 'spelling', 'dealings', 'close-fitting', 'whistling', 'almanac', 'cyclopædia', 'hemlock', 'prevalence', 'plato’s', 'talk!', 'belly', 'late.', 'originality', 'presentable', 'bottomless', 'lend', 'luck', 'half-witted', 'simple-minded', 'intellect.”', 'childhood', 'metaphysical', 'exalted.', 'policy.', 'world’s', 'appeal', '_hospitalality_', 'listened', 'beseechingly', 'duckling', 'frizzled', 'crawl', 'peculiarities', 'ramble', 'monopoly', 'lawyers', 'a-huckleberrying', 'dead-and-alive', 'self-styled', 'built.', 'pilgrims', '—“welcome', 'englishmen!', 'welcome', 'englishmen!”', 'latest', 'self-respecting', 'herculean', 'cinquefoil', 'pulse.', 'auxiliaries', 'nibbled', 'clean.', 'flute', 'fabulous', 'blades', 'upland', 'anciently', 'dabbling', 'plastic', 'crumbling', 'blistered', 'slowly', 'gravelly', 'blossoms', 'millet', 'slower', 'usual.', 'idleness.', 'imperishable', 'scholar', 'result.', '_agricola', 'laboriosus_', 'wayland', 'elbows', 'loosely', 'laborious', 'soil.', 'travellers’', 'late!', 'late!”—for', 'ministerial', 'grateful', 'plaster.', 'fellow-travellers', 'rattled', 'aloud', 'coleman’s', '_english_', 'calculated', 'silicates', 'dells', 'link', 'half-civilized', 'half-cultivated', 'field.', 'played', 'him—all', 'planting', '—pull', 'rigmarole', 'leached', 'unchronicled', 'primeval', 'cultivators', 'tinkled', 'immeasurable', 'circled', 'it—like', 'seamless', 'aerial', 'air-inflated', 'elemental', 'unfledged', 'alternately', 'outlandish', 'salamander', 'inexhaustible', 'gala', 'martial', 'puffball', 'military', 'scarlatina', 'virgil’s', '_tintinnabulum_', 'liberties', 'fatherland', 'bellows', 'collapsed', 'relish', 'trifles?—and', 'chivalry', 'palestine', 'elm-tree', 'everlastingly', 'ruthlessly', 'levelling', 'cultivating', 'he’ll', 'leek', 'parable-maker', 'lætation', 'comparable', 'continual', '“especially', '(call', 'logic', 'kenelm', '“vital', 'complained', 'coleman', 'gentlemen', 'cultivator', 'familias', 'stalks', 'tendrils', 'squirrel.', 'salable', 'vitality', 'ineffable', 'slightest', 'land.', 'insult', 'friendliness.', 'plodding', 'leaning', 'partially', 'alighted', 'angel.', 'supple', 'ailed', 'heedlessness', 'merely.', 'festival', 'cattle-shows', 'plutus', 'grovelling', 'leads', '“called', 'useful', 'alike', 'influences', 'partly?', 'obsoletely', 'fail?', 'relinquishing', 'wrinkle', 'strolled', 'incessantly', 'rustle', 'rattle.', 'elms', 'inhaling', 'insensibility', 'painful', 'rambled', 'ladder', 'glancing', 'voluptuous', 'rudely', 'vitals', 'lanes', 'gantlet', 'lick', 'straggling', 'allure', 'victualling', 'jeweller’s', 'tailor.', 'wonderfully', 'boldly', 'goal', '“loudly', 'bolted', 'gracefulness', 'kernels', 'sieve-ful', 'launch', 'parlor', 'shoulder', 'helm', 'sailing.', 'sailed.”', 'relation', 'invariably', 'lift', 'recall', 'sidewalk', 'perplexity', 'pilots', 'headlands', 'relations.', 'cobbler’s', 'sells', 'odd-fellow', 'forcibly', 'molested', 'file', 'soldiers.', 'volume', 'improperly', 'gilded', 'bella', 'molest', 'bowls', 'employ', 'habitually', 'blueberries', 'ambrosial', 'eternal', 'motionless', 'skilled', 'lines.', 'psalm', 'philosophy.', 'paddle', 'elicited', 'growl', 'hill-side.', 'playing', 'adventurously', 'total', 'moonlight', 'dimpling', 'prowling', 'pulling', 'cosmogonal', 'inlet', 'outlet', 'abruptly', 'respectively', 'mile.', 'woodland.', 'slate', 'perceptible', 'liquid', 'solid.”', 'colors.', 'hill-top', 'reflects', 'yellowish', 'reflection', 'prevailing', 'reflected', 'melts', 'canal', 'middle.', 'matchless', 'changeable', 'silks', 'cerulean', 'alternating', 'colorless', 'colorless.', 'crystalline', 'alabaster', 'michael', 'angelo.', 'paddling', 'pickerel', 'slid', 'helve', 'pulse', 'handle', 'chisel', 'slip-noose', 'letting', 'pulled', 'bottomless.', 'casual', 'noticeable', 'closer', 'flag', 'lily', 'heart-leaves', 'well-like', 'pellucid', 'southerly', 'clarified', 'distiller', 'castalian', 'encircling', 'shelf-like', 'hill-side', 'aboriginal', 'unwittingly', 'undulating', 'alto-relievo.', 'villas', 'boil', 'listen', 'incredulity', 'secluded', 'overflow', 'fluctuation', 'periodical', 'accomplishment.', 'flint’s', 'allowing', 'inlets', 'outlets', 'smaller', 'latter.', 'alders', 'unlike', 'cleanest', 'lowest.', 'lever', 'licks', 'willows', 'high-blueberry', 'puzzled', 'conflict', 'hazel', 'locality', '_walled-in_', 'wells', 'coldest', 'boiling', 'pailful', 'reel', '(_leuciscus', 'pulchellus_)', 'eels', '—also', 'silvery', 'dace-like', 'fable.', 'steel-colored', 'golden-colored', 'blood-red', '_reticulatus_', 'cleaner', 'fleshed', 'ichthyologists', 'muscels', 'mud-turtle', 'white-bellied', 'bicolor_)', 'macularius_)', 'gull', 'tolerates', 'loon.', 'circular', 'lampreys', 'irregular', 'bolder', 'beautifully', 'scalloped', 'overlap', 'selvage', 'laves', 'landscape’s', 'fluviatile', 'eyelashes', 'cliffs', 'lake.”', 'sparkle', 'swallow', 'flash', 'thistle-down', 'dimple', 'molten', 'cooled', 'congealed', 'glass.', 'manifestly', 'equilibrium', 'lake.', 'elaborateness', 'ceaselessly', 'ripple', 'glide', 'perceptibly.', 'impulses', 'fully', 'overlooking', 'welling', 'pulsing', 'thrills', 'undistinguishable.', 'lake!', 'sparkles', 'defiling', 'quicksilver', 'gilding', 'dust-cloth', 'subtler', 'reflections.', 'welled', 'bubbles', 'balloon', 'flight', 'skylight', 'alarmed', 'splash', 'instantly', 'leaped', 'rapidly', 'dimly', 'fowl', 'eagles', 'lasted', 'water-logged', 'cable', 'indistinctly', 'paddled', 'sylvan', 'spectacle.', 'willed', 'impelled', 'rambling', 'aisles', 'plug!', 'devilish', 'lance', 'bloated', 'likened', 'ripples.', 'perennially', 'guile!', 'distantly', 'indirectly', 'geological', 'flowed', 'inland', 'walden.', 'mouldering', 'model', 'sharply', 'undistinguishable', 'flags', 'balls', 'spherical.', 'pebble', '_flint’s', 'nomenclature.', 'unclean', 'skin-flint', 'talons', 'harpy-like', 'like-minded', 'legislature', '_privilege_', 'dollars.', 'wealth.', 'uncleansed', 'redolent', 'buttermilk!', 'cultivation', '“still', 'privileges', 'lesser', 'sultry', 'bluish-green', 'glaucous', 'cart-loads', 'yellow-pine', '“topographical', 'collections', 'historical', 'although', 'talked', 'yellow-pine.', 'channel', 'hauled', 'saw-log', 'waterlogged', 'undulation', 'versicolor_)', 'thinly', 'bluish', 'crystals', 'clutched', 'pool', 'plumage', 'luxuriant', 'fleets', 'full-rigged', 'valhalla', 'lichen', 'toad-stools', 'butterflies', 'winkles', 'alder-berry', 'glows', 'folds', 'wild-holly', 'dazzled', 'nameless', 'black-birch', 'loose', 'bole', 'lichen-painted', 'sizable', '_celtis', 'occidentalis_', 'elm', 'well-grown', 'taller', 'dazzling', 'crystal.', 'dolphin.', 'employments', 'halo', 'elect.', 'declared', 'cellini', 'castle', 'angelo', 'resplendent', 'italy', 'moonlight.', 'excitable', 'cellini’s', 'all?', 'vegetables.', 'gliding', 'mercurial', 'indefinitely', 'piling', 'pickerel-weed', 'rumble', 'flashes', 'builded', 'completed', 'fables.', 'wrinkled', 'sibyl-like', 'nobles', 'inquisitively', 'privilege', 'field’s', 'starveling', 'leaked', 'stalked', 'significantly.', 'loafer', 'trifle', 'purposely', 'soiled', 'bravely', 'detail', 'roughly', 'thistle.', 'overwhelming', '—living', 'failing', 'glistening', 'hopeful', 'shallows', 'irrecoverable.', 'culinary', 'distilled', 'consultation', 'settle.', 'gruel', 'excluding', 'skilfully', 'could.', 'sloughs', 'bog-holes', 'forlorn', 'tinkling', 'played.', 'flee', '“landscape', 'revel', 'rail-fenced', 'lea.”', 'perplexed', 'tamely', 'perils', 'impulse', 'altered', 'field!—i', 'allow.', '_talaria_', 'heels.', 'trailing', 'stealing', 'thrill', 'strongly', 'morsel', 'unaccountably', 'familiar.', 'closest', 'columbia', 'learns', 'halves', 'instinctively', 'holidays', 'shouldered', 'fowling', 'limited', 'boundless', 'feelings.', 'differently', 'feelings', 'ornithology', 'anxiously', 'wilderness', 'algonquins', 'thoughtless', 'wantonly', 'phil-_anthropic_', 'fish-pole', 'clarifying', 'council', 'impaling', 'development.', 'repeatedly', 'self-respect.', 'flesh', 'ill', 'scullion', 'uncleanness', 'cleaned', 'essentially.', 'filth.', 'entomologists', 'rule', 'larvæ.', 'gluttonous', 'liquid.', 'larva.', 'larva', 'temperately', 'reconciled', 'animal?', 'slaughtering', 'lambs', 'gradual', 'civilized.', 'listens', 'resolute', 'lies.', 'prevail', 'misled', 'principles.', 'congratulation', 'momentarily', 'bless', 'values', 'intangible', 'clutched.', 'coarsely', 'privileged', 'thrilled', 'palate', 'glutton', 'alderman', 'turtle.', 'defileth', 'sensual', 'mud-turtles', 'indulges', 'jelly', 'calf’s', 'mill-pond', 'slimy', 'beastly', 'startlingly', 'fails.', 'trembles', 'reptile', 'spiritual.', 'inconsiderable', 'carefully.”', 'control', 'sensuality', 'holiness', 'flows', 'blessed', 'established.', 'allied.', 'allied', 'incline', 'sensually.', 'sensualist', 'conformably', 'sloth', 'sensuality.', 'slothful', 'cleaning', 'stable.', 'avails', 'religious?', 'reverently', 'regulated', 'law.', 'lawgiver', 'elevating', 'trifles.', 'sculptors', 'planning', 'shuffled', 'slumbered', 'moiling', 'twinkle', 'locust', 'flutter', 'shelf.—hark!', 'rustling', 'ill-fed', 'tremble.—eh', '—unless', 'learned.', 'let’s', 'along.', 'concluding', 'delayed', 'meanwhile.', 'angle-worms', 'alone._', 'angle.', 'pilpay', 'lunch', 'resembled', 'leaned', 'elbow', 'sleeve', 'umbellus_', 'clucking', 'signal', 'whirlwind', 'resemble', 'traveler', 'flew', 'dishabille', 'trembling.', 'accidentally', 'callow', 'adult', 'memorable.', 'coeval', 'reflects.', 'limpid', 'reckless', 'mingle', 'resemble.', 'alarm', 'roiling', 'turtle-doves', 'fluttered', 'wood-pile', 'fiercely', 'struggled', 'wrestled', 'incessantly.', '_duellum_', '_bellum_', 'black.', 'legions', 'vales', 'battle-field', 'republicans', 'imperialists', 'soldiers', 'resolutely.', 'tumblings', 'feelers', 'bull-dogs.', 'battle-cry', 'evidently', 'shield', 'patroclus.', 'unequal', 'blacks', 'fore-leg', 'locks', 'national', 'displayed.', 'austerlitz', 'luther', 'blanchard', 'hireling', 'struggling', 'tumbler', 'window-sill', 'assiduously', 'feeler', 'breastplate', 'carbuncles', 'ghastly', 'saddle-bow', 'struggles', 'crippled', 'hotel', 'invalides', 'battles', 'sylvius', 'circumstantial', 'nicholas', 'fidelity.’', 'olaus', 'expulsion', 'polk', 'fugitive-slave', 'bill.', 'ineffectually', 'smelled', 'nimbly', 'jerbilla', 'mutual.', 'sly', 'stealthy', 'gilian', 'male', 'female', 'flatted', 'flying-squirrel', 'naturalists', 'prolific', '(_colymbus', 'glacialis_)', 'moult', 'mill-dam', 'rifles', 'conical', 'spy-glasses.', 'spy-glasses', 'generously', 'angrily', 'water-fowl', 'successful.', 'stately', 'milkweed', 'miscalculated', 'cunningly', 'cooly', 'quickly', 'resolve', 'long-winded', 'unweariable', 'plunge', 'loons', 'ungainly', 'schools!', 'calculate', 'startled', 'unearthly', 'displaying', 'laugh?', 'silly', 'willingly', 'serenely', 'unruffled', 'successfully', 'long-drawn', 'howl', 'muzzle', 'howls.', 'looning', 'tumultuous', 'louisiana', 'slanting', 'loaded', 'clusters', 'pearly', 'plucks', 'ugly', 'snarl', 'spoils', 'regardless', 'plant.', 'likewise', 'coddling', 'overlooked.', 'red-squirrels', 'half-consumed', 'stole', 'climbed', 'relinquished', 'crimpled', 'blossom', 'grain-fields', 'told!', 'gallery', 'coloring', 'walls.', 'complimented', 'unspeakable', 'pleasanter', 'wholesomer', 'artificial', 'glowing', 'trowel', 'trowels.', 'babylon', 'steel', 'violent', 'fire-place', 'lingered', 'pillow', 'comfortable.', 'flickering', '(_patremfamilias_)', 'villa', '“cellam', 'oleariam', 'dolia', 'multa', 'lubeat', 'gloriæ', 'glory.”', 'weevil', 'hall', 'purlins', '—useful', 'sill', 'settles', 'essentials', 'barrel', 'excluded', 'alley', 'legally', 'parlors', '_palaver_', 'symbols', 'parable', 'commonly.', 'isle', 'parliamentary', 'plaster', 'lathing', 'rapidly.', 'lounge', 'plasterer’s', 'complacent', 'ruffled', 'casualties', 'plasterer', 'liable.', 'pailfuls', 'fluviatilis_', 'shallowest', 'doubled', 'oblong', 'perpendicular', 'spherical', 'overlapping', 'cleavages.', 'middling', 'bubble', 'flattish', 'lenticular', 'melt', 'pond-hole', 'leader', 'shallower', 'haul', 'vulcan', 'steal', 'sliding', 'piecemeal', 'gilpin', 'severely', 'inconsolable', '(_lucum', 'conlucare_)', 'gold.', 'philadelphia', '“nearly', 'equals', 'plains.”', 'gleaning', 'celt', 'blake', 'gill', 'spells', 'bean-field.', 'splitting', 'blacksmith', 'indestructible.', 'scales', 'shovel', 'explore', 'tallow', 'finely', 'lighting', 'light-winged', 'melting', 'hamlets', 'star-veiling', 'blotting', 'flame.', 'glowing.', 'moles', 'nibbling', 'lengthen', 'blasts', 'speculate', 'blast', 'fire-place.', 'laborer', 'flame', 'welcomed', 'beloved', 'life’s', 'dull?', 'gleam', 'souls?', 'bold?', 'flit', 'utilitarian', 'talked.”', 'wildly', 'blew', 'maple', 'alms', 'walnuts', 'speculator', 'half-obliterated', 'golden-rod', '(_solidago', 'luxuriantly.', 'zilpha', 'townsfolk', 'notable', 'parole', 'apple-trees', 'styled', 'discolored.', 'hospitable', '—large', 'blacker', 'location', 'mythological', '—new-england', 'saluted', 'election', 'labored', 'lethargy', 'complaint', 'uncle', 'chalmers’', 'collection', 'loads', 'alarm.', 'idealists', 'crackling', 'worthless.', 'jostled', 'conflagrations', 'including', 'flood.', 'soul’s', 'smouldering', 'well-sweep', 'cling', 'lilac', 'le', 'lincoln.', 'worldly', 'fictile', 'quoil', 'spelt', 'coil', '—col.', 'waterloo.', 'napoleon', 'helena', 'capable', 'delirium', 'shortly', 'unlucky', 'curled', 'floor.', 'outline', 'waterloo', 'thimble-berries', 'hazel-bushes', 'gnarled', 'tearless', 'sorrowful', 'wells!', 'bustle', 'free-will', 'foreknowledge', 'conclusions', 'wool', 'lintel', 'plots', 'wall-sides', 'sole', 'slip', 'lone', '—blossoming', 'smelling', '—privilege', 'dilute', 'stable-broom', 'linen-spinning', 'sterile', 'low-land', 'landscape!', 'hamlet.', 'deliver', 'blanched', 'repeopled', 'lulled', 'asleep.', 'seldom', 'poultry', 'settler’s', 'fatally', 'yellow-birch', 'floundering', 'nebulosa_)', 'lids', 'slumberous', 'slit', 'peninsular', 'half-shut', 'louder', 'sluggishly', 'launched', 'flapped', 'blustering', 'piled', 'obliterate', 'traveller.', 'floundered', 'springly', 'leading', 'whittlings', 'long-headed', 'love.', 'silences.', 'conviviality', 'clear-headedness', 'peddled', 'declares', 'peddles', 'kernel.', 'revolve.', 'immortality', 'elegance.', 'pledged', 'landscape.', 'blue-robed', 'whittled', 'angler', 'grandly', 'castles', 'looker!', 'calked', '“solid', 'house-holder', 'indeterminable', 'wolfish', 'sealers', 'loomed', 'jingle', 'sleigh-bells', 'bristling', 'icicles.', 'plectrum', '_lingua', 'vernacula_', 'sonorously', 'syllables', 'unmistakable', 'alarming', 'citadel', 'larynx', 'yourself?', 'bed-fellow', 'flatulency', 'raggedly', 'demoniacally', 'rudimental', 'vulpine', 'meal.', 'warily', 'inconceivable', 'ludicrous', 'girl', 'soliloquizing', 'talking', 'selecting', 'trigonometrical', 'voraciously', 'half-naked', 'balanced', 'careless', 'plumper', 'buffalo', 'diagonal', 'horizontal', 'singularly', 'whimsical', 'bills.', 'placing', 'claws', 'lisping', 'icicles', 'sprightly', 'spring-like', 'armful', 'epaulet', 'plunges', 'apple-trees.', 'yelp', 'sleigh', 'puddles', 'lexington', 'well-meadow', 'latter’s', 'short-lived', 'levelled', 'rolling', 'solved.', 'ledges', 'town-clerk', 'melven', 'ledger', 'wild-cat', 'sold.', 'particulars', 'girdled', 'densely.', '(_lepus', 'flooring', 'bloods', 'dropsical.', 'slenderness.', '(_lepus_', '_levipes_', 'light-foot', 'venerable', 'legged.', 'revolutions', 'concealment', 'lips.', 'daylight.', 'mortals', 'resolution.', 'spectacle', 'veils', 'closes', 'eye-lids', 'kneeling', 'waveless', 'reels', 'luncheon', 'lore', 'consulted', 'naturalist.', 'lays', 'filled.', 'slack', 'walden!', 'pearls', 'animalized', '_nuclei_', 'waldens', 'waldenses.', 'rattling', 'sleighs', 'emerald', 'convulsive', 'walden_pond_map', 'bottomlessness', 'illusive', 'marvellousness.', 'reasonably', 'unreasonable', 'cod-line', 'shallow?', 'thankful', 'symbol.', 'valleys.', 'vertical', 'plate.', 'william', 'relates', 'loch', 'scotland', 'diluvian', 'convulsion', 'shallow.', 'smiling', 'cornfields', 'geologist', 'conceal', 'regularity.', 'plough.', 'arbitrarily', 'inequalities.', 'shoal', 'channel.', 'lengthwise', '_exactly_', 'puddle?', 'valleys?', 'horizontally', 'vertically', 'outlines', 'plan', 'island', 'complicated.', 'irregularity', 'calculation.', 'conflicting', 'wonderful.', 'profiles', 'cleft', 'achillean', 'inclination', 'land-locked.', 'inclinations', 'elevation.', 'harborless', 'individualize', '“leach', 'soldering', 'hole”', 'particles', 'undulated', 'infinitesimal', 'mottled', 'internally', 'channels', 'double', 'impressively', 'pathetically', 'solidified', 'car-loads', 'ungainly-looking', 'sleds', 'ploughs', 'drill-barrows', 'double-pointed', 'new-england', 'cultivator.', 'iceland.', 'polar', 'acknowledged', 'ploughshare', 'sledded', 'platform', 'grappling', 'block', 'tackle', 'barrels', 'evenly', 'obelisk', '“cradle', 'holes”', 'hollowed', 'layers', 'exclude', 'topple', 'slips', 'bluest.', 'contemplation.', 'intellect.', 'securely', 'labored.', 'sweltering', 'charleston', 'orleans', 'calcutta', 'sublimity', 'islands', 'atlantis', 'periplus', 'gales', 'landed', 'trial.', 'uninterruptedly.', 'cells', 'angles', 'circulated', 'burning-glasses', 'scale.', 'tumult', 'influence.', 'papillæ.', 'globule', 'walk.', 'sensibly', 'squirrel’s', 'bluebird', 'entirely.', 'april.', 'artillery', 'alligator', 'keel', 'methuselah', '—told', 'sullen', 'crumbled', 'smiles', 'islet', 'rills', 'rivulets', 'multiplied', 'clay.', 'slopes', 'lava', 'overflowing', 'interlace', 'pulpy', 'resembling', 'laciniated', 'lobed', 'thalluses', 'leopard’s', 'foliage', 'typical', 'geologists.', 'stalactites', 'losing', 'semi-cylindrical', 'variously', 'suddenly.', 'laboratory', 'foliaceous', 'leaf.', 'outwardly', 'inwardly.', '_internally_', '_lobe_', 'applicable', '_leaves_', '_labor_', '_lapsus_', 'lapsing', '_globus_', 'lobe', 'lap', 'flap', '_externally_', '_leaf_', 'radicals', '_lb_', '(single', '_l_', '_glb_', 'guttural', 'lumpish', 'butterfly.', 'translates', 'crystal', 'moulds', 'pulp', 'axils.', 'drop-like', 'fluid', 'swallowed', 'silicious', 'fleshy', 'clay?', 'congealed.', '_palm_', 'lobes', 'fancifully', '_umbilicaria_', 'lip—_labium_', '(?)—laps', 'lapses', 'stalactite.', 'confluent', 'loitering', 'illustrated', 'champollion', 'hieroglyphic', 'last?', 'flowery', 'swaddling', 'curls', 'baldest', 'slag', 'blast”', 'geologists', 'fossil', 'central', 'metals', '—life-everlasting', 'golden-rods', 'cat-tails', 'mulleins', 'sheaf-like', 'wool-grass', 'fragile', 'delicacy.', 'gentleness', 'lover', 'chuckling', 'vocal', 'irresistible.', 'warblings', 'blue-bird', 'fell!', 'chronologies', 'revelations?', 'carols', 'glees', 'dissolves', 'hillsides', 'grass-blade', 'lifting', 'below.', 'rill', 'identical', 'supply.', 'blade', 'northerly', '—_olit_', '_olit_', '_olit', 'helping', 'regular!', 'sparkling', 'glee', '_leuciscus_', 'proclaim.', 'influx', 'sleety', 'indulging', 'consolation.', 'clamor', 'wheeled', 'pools.', '“plump”', 'peopling', 'peculiarly', 'heralds', 'oscillation', 'poles', 'realization', 'befell', 'neglect', 'loiter', 'vilest', 'lord.', 'jailer', 'tranquil', 'felled.', 'developing', 'spontaneously', 'suppliant', 'placid', 'lurk', 'tumbling', 'gleamed', 'shell.', 'falconry', 'merlin', 'cliffy', 'cloud.', 'jewels.', 'immortality.', 'builds', 'crawls', 'unexplorable', 'unfathomable.', 'lasts', 'vulture', 'inviolable', '—tadpoles', 'gobble', 'blood!', 'liability', 'fatal.', 'untenable', 'pleadings', 'hill-sides', 'cavern-like', 'clinched', 'sulphur-like', 'pollen', 'barrel-ful.', '“sulphur', 'calidas’', 'sacontala', '“rills', 'lotus.”', 'rambles', 'wild-goose', 'cosmopolite', 'colorado', 'yellowstone.', 'rail-fences', 'stone-walls', 'nevertheless.', 'tafferel', 'great-circle', 'could?', 'self.—', 'you’ll', 'franklin', 'grinnell', 'lewis', 'clarke', 'shiploads', 'merely?', 'columbus', 'realm', '_self_-respect', 'cannibals', 'alone.—', 'alter', 'plus', 'ille', 'australians.', 'portugal', 'thyself.', 'enlist.', 'resolution', 'formal', 'well-considered', 'resolve.”', 'manly', 'insensibly', 'impressible', 'travels.', 'confidently', 'simplifies', 'leaps', 'calf', 'milking', 'laxly', 'insensible', 'volatile', 'residual', '_translated_', 'literal', 'dullest', 'once-and-a-half-witted', 'fault', 'widely', 'fatally?', 'envelop', 'elizabethan', 'lion.', 'apple-tree', 'unsuitable', 'singleness', 'peel', 'polished', 'kalpa', 'pole-star', 'ferrule', 'scintillation', 'inflame', 'wonderful?', 'doubly', 'make-believe.', 'gallows', '“tell', 'tailors', 'fault-finder', 'alms-house', 'brightly', 'contentedly', 'palace.', 'disreputable.', 'reveals', 'lights.', 'trifler.', 'soul.', 'leaden', 'alloy', 'metal.', 'notabilities', 'dinner-table', 'california', 'mameluke', 'bustling', 'celebrating?', 'kittly-benders.', 'presently', 'lath', 'clinch', 'inhospitable', 'hospitality.', 'regal.', 'long-suffering', 'self-complacency', 'inclines', 'congratulate', 'illustrious', 'eulogies', 'experimentalists', 'pellicle', 'delved', 'crawling', 'tolerate', 'dulness.', 'nasal', 'eventful', 'alburnum', 'well-seasoned', 'handselled', 'last!', 'heartily', 'systematically.', 'believe—“that', 'liable', 'tool', 'split.', 'alacrity', 'legislators', 'classed', 'railroads.', 'physically', 'virtually', 'applicable?', 'legislator?', 'well-disposed', 'colonel', 'corporal', 'wills', 'palpitation', 'damnable', 'peaceably', 'inclined.', 'unscrupulous', 'farewell', 'militia', 'jailers', 'constables', 'politicians', 'office-holders', '“clay', 'world.”', 'philanthropist.', '_slave’s_', 'allegiance', 'unendurable.', 'probable', 'counter-balance', 'population', 'unjustly', 'rebel', 'revolutionize.', 'paley', 'resolves', 'longer.”—“this', 'probability', 'cloth-o’-silver', 'slut', 'quarrel', 'harmless.', 'lump.', 'quietly', 'vitally', 'prevail.', 'feebly', 'abolition', 'abolished', 'slaves.', 'baltimore', 'selection', 'nevertheless?', '_available_', 'unprincipled', 'large.', 'lack', 'self-reliance', 'alms-houses', 'lawfully', 'virile', 'decently.', 'contemplations', 'shoulders.', 'tolerated.', 'applauded', 'immoral', '_un_moral', 'prevalent', 'revolutionary', '_individual_', 'diabolical', 'rebels?', 'deliberate', 'denial', 'penalty?', 'shillings', 'unlimited', '—certainly', 'pulley', 'unconcilliatory', 'convulse', 'abolitionists', 'already.', 'simplest', 'indispensablest', 'slaves_', 'settlement', 'carolina', 'inhospitality', 'honorable', 'slave-state', 'afflict', 'eloquently', 'effectively', 'powerless', 'clogs', 'tax-bills', 'bloody', 'violence', 'peaceable', 'possible.', 'flow.', 'bleeds', 'consequently', '”—leaving', 'tranquillity', 'families.', 'rely', 'tax-bill', 'behalf', 'clergyman', 'jail.”', 'schoolmaster', 'list.', 'poll-tax', 'foolishness', 'climb', 'wall.', 'smile', 'industriously', 'multitude?', 'live?', 'snivel', 'responsible', 'novel', 'shirt-sleeves', 'clever', 'published.', 'fellow-prisoner', 'town-clock', 'slept', 'involuntary', 'village-inn—a', 'oblong-square', 'chocolate', 'malays', 'souls.', 'harshly', 'tackled', 'fellow-countrymen', 'effectually.', 'allegiance.', 'declare', 'ill-will', 'personal', 'altering', 'obstinately', 'instantaneously', 'blame.', 'mussulman', 'fatalist', 'alienate', 'fellow-countrymen.', 'nakedly', 'resting-place', 'usefulness', 'limits.', 'legislate', 'glances', 'practical.', 'lawyer’s', 'follower.', 'leaders', '—let', 'will.”', 'trickling', 'loins', 'pilgrimage', 'legislation', 'eloquent', 'agriculture.', 'seasonable', 'complaints', 'legislator', 'legislation.', 'strictly', 'individual.', 'meddling', 'fulfilled', 'fellow-men.', 'files', 'replace', 'royalties.', 'electronic', 'royalties', 'complying', 'comply', 'www.gutenberg.org/license.', 'pglaf)', 'compilation', 'compliance', 'downloading', 'links', 'prominently', 'displayed', 'holder)', 'holder.', 'linked', 'unlink', 'display', 'license.', '\"plain', 'vanilla', 'official', 'alternate', 'include', 'royalty', 'e-mail)', 'replacement', 'volunteers', 'employees', 'collection.', 'incomplete', 'disclaimer', 'disclaim', 'legal', 'negligence', 'consequential', 'explanation', 'explanation.', 'elect', 'lieu', 'electronically', 'problem.', 'merchantability', 'disclaimers', 'limitation', 'violates', 'invalidity', 'unenforceability', 'alteration', 'deletions', 'readable', 'obsolete', 'middle-aged', 'financial', 'goals', 'educational', 'federal', 'deductible', 'laws.', 'email', 'licensed', 'machine-readable', 'solicit', 'locations', 'compliance.', 'solicitation', 'unsolicited', 'international', 'gratefully', 'volunteer', 'included.', 'facility', 'includes', 'newsletter']\n"
     ]
    }
   ],
   "source": [
    "# use filter with lambda\n",
    "res = list(filter(lambda x: 'l' in x.lower(), list(uniqueworddic.keys())))\n",
    "print(res)"
   ]
  },
  {
   "cell_type": "markdown",
   "id": "bcf391ac-4ab5-45cd-b45b-70933aa5e8aa",
   "metadata": {},
   "source": [
    "## 10. Create a file containing a \"cleaned\" version of the text with the following transformations:\n",
    "A. reformat the text so there is one English sentence per line. (this is done most easily if you load the whole file, remove all new line characters, put new line characters back where you see periods, question marks or exclamation points)     \n",
    "    \n",
    "B. remove commas, colons and semicolons\n",
    "    \n",
    "C. convert all characters to lower case\n",
    "\n",
    "D. Remove any extra spaces around lines using the strip() function (empty lines are ok)"
   ]
  },
  {
   "cell_type": "code",
   "execution_count": 20,
   "id": "246acb05-a96a-4e86-ac3e-8f528461fb99",
   "metadata": {
    "tags": []
   },
   "outputs": [],
   "source": [
    "# use the previous \"questionthree.txt\" file and add requirement A above. \n",
    "# .replace('\\n\\n', '***').replace('\\n\\n\\n', '***').replace('\\n\\n\\n\\n', '***').replace('\\n\\n\\n\\n\\n', '***') - I only want to replace '\\n'. So need to replace others with *** first. \n",
    "finaltxt = open(output_file_location, \"r\", encoding='utf8').read()\n",
    "finaltxt = finaltxt.replace('\\n\\n', '***').replace('\\n\\n\\n', '***').replace('\\n\\n\\n\\n', '***').replace('\\n\\n\\n\\n\\n', '***').replace('\\n', ' ').replace('. ', '\\n').replace('.', '\\n').replace('? ', '\\n').replace('! ', '\\n').replace('***', '\\n\\n')\n",
    "#print(finaltxt)"
   ]
  },
  {
   "cell_type": "code",
   "execution_count": 21,
   "id": "666ade0a-799d-472b-9c61-5489494cfe41",
   "metadata": {
    "tags": []
   },
   "outputs": [],
   "source": [
    "with open(\"cleaned_walden.txt\", \"w\", encoding='utf8') as file:\n",
    "    file.write(finaltxt)"
   ]
  },
  {
   "cell_type": "code",
   "execution_count": 22,
   "id": "060c288c-395d-4701-9539-7d2f55d24688",
   "metadata": {
    "tags": []
   },
   "outputs": [],
   "source": [
    "# # Opening the given file in read-only mode\n",
    "# with open(output_file_location, \"r\", encoding='utf8') as filedata:\n",
    "\n",
    "#    # Reading the file lines using readlines()\n",
    "#    linesList= filedata.readlines()\n",
    "   \n",
    "#    # Removing the new line character(\\n) from the list of lines \n",
    "#    final = [k.replace('\\n', ' ') for k in linesList]\n",
    "#    print(final)\n",
    "\n",
    "# # Closing the input file\n",
    "# filedata.close()"
   ]
  },
  {
   "cell_type": "code",
   "execution_count": null,
   "id": "a14d930b-d55d-415a-b142-3bb85d3737b7",
   "metadata": {},
   "outputs": [],
   "source": []
  }
 ],
 "metadata": {
  "kernelspec": {
   "display_name": "Python 3 (ipykernel)",
   "language": "python",
   "name": "python3"
  },
  "language_info": {
   "codemirror_mode": {
    "name": "ipython",
    "version": 3
   },
   "file_extension": ".py",
   "mimetype": "text/x-python",
   "name": "python",
   "nbconvert_exporter": "python",
   "pygments_lexer": "ipython3",
   "version": "3.11.4"
  }
 },
 "nbformat": 4,
 "nbformat_minor": 5
}
